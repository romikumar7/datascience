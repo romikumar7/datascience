{
 "cells": [
  {
   "cell_type": "code",
   "execution_count": 2,
   "id": "b5c159b5",
   "metadata": {},
   "outputs": [
    {
     "data": {
      "text/plain": [
       "'1.21.5'"
      ]
     },
     "execution_count": 2,
     "metadata": {},
     "output_type": "execute_result"
    }
   ],
   "source": [
    "import numpy as np\n",
    "np.__version__"
   ]
  },
  {
   "cell_type": "code",
   "execution_count": 175,
   "id": "2675f019",
   "metadata": {},
   "outputs": [],
   "source": [
    "# for documentation\n",
    "np?"
   ]
  },
  {
   "cell_type": "code",
   "execution_count": 176,
   "id": "b9f23633",
   "metadata": {},
   "outputs": [],
   "source": [
    "np??"
   ]
  },
  {
   "cell_type": "code",
   "execution_count": 3,
   "id": "1219b66a",
   "metadata": {},
   "outputs": [
    {
     "data": {
      "text/plain": [
       "array([1, 2, 3, 4, 5])"
      ]
     },
     "execution_count": 3,
     "metadata": {},
     "output_type": "execute_result"
    }
   ],
   "source": [
    "np.array([1,2,3,4,5])"
   ]
  },
  {
   "cell_type": "code",
   "execution_count": 4,
   "id": "1ab67d24",
   "metadata": {},
   "outputs": [
    {
     "data": {
      "text/plain": [
       "array([3.13, 4.  , 2.  , 5.  ])"
      ]
     },
     "execution_count": 4,
     "metadata": {},
     "output_type": "execute_result"
    }
   ],
   "source": [
    "np.array([3.13,4,2,5])"
   ]
  },
  {
   "cell_type": "code",
   "execution_count": 5,
   "id": "cffe2036",
   "metadata": {},
   "outputs": [
    {
     "data": {
      "text/plain": [
       "array([1., 2., 3., 4.], dtype=float32)"
      ]
     },
     "execution_count": 5,
     "metadata": {},
     "output_type": "execute_result"
    }
   ],
   "source": [
    "np.array([1,2,3,4], dtype='float32')"
   ]
  },
  {
   "cell_type": "code",
   "execution_count": 6,
   "id": "50a1eed4",
   "metadata": {},
   "outputs": [
    {
     "data": {
      "text/plain": [
       "array([0, 0, 0, 0, 0, 0, 0, 0, 0, 0])"
      ]
     },
     "execution_count": 6,
     "metadata": {},
     "output_type": "execute_result"
    }
   ],
   "source": [
    "np.zeros(10, dtype=int)"
   ]
  },
  {
   "cell_type": "code",
   "execution_count": 7,
   "id": "e3f2b312",
   "metadata": {},
   "outputs": [
    {
     "data": {
      "text/plain": [
       "array([[1., 1., 1., 1., 1.],\n",
       "       [1., 1., 1., 1., 1.],\n",
       "       [1., 1., 1., 1., 1.]])"
      ]
     },
     "execution_count": 7,
     "metadata": {},
     "output_type": "execute_result"
    }
   ],
   "source": [
    "np.ones((3,5), dtype=float)"
   ]
  },
  {
   "cell_type": "code",
   "execution_count": 8,
   "id": "a62bc7d6",
   "metadata": {},
   "outputs": [
    {
     "data": {
      "text/plain": [
       "array([[3.14, 3.14, 3.14, 3.14, 3.14],\n",
       "       [3.14, 3.14, 3.14, 3.14, 3.14],\n",
       "       [3.14, 3.14, 3.14, 3.14, 3.14]])"
      ]
     },
     "execution_count": 8,
     "metadata": {},
     "output_type": "execute_result"
    }
   ],
   "source": [
    "np.full((3,5), 3.14)"
   ]
  },
  {
   "cell_type": "code",
   "execution_count": 11,
   "id": "b0156ac8",
   "metadata": {},
   "outputs": [
    {
     "data": {
      "text/plain": [
       "array([ 0,  2,  4,  6,  8, 10, 12, 14, 16, 18])"
      ]
     },
     "execution_count": 11,
     "metadata": {},
     "output_type": "execute_result"
    }
   ],
   "source": [
    "# Create an array filled with a linear sequence\n",
    "# Starting at 0, ending at 20, stepping by 2\n",
    "np.arange(0, 20, 2)"
   ]
  },
  {
   "cell_type": "code",
   "execution_count": 12,
   "id": "b4ffb80a",
   "metadata": {},
   "outputs": [
    {
     "data": {
      "text/plain": [
       "array([0.  , 0.25, 0.5 , 0.75, 1.  ])"
      ]
     },
     "execution_count": 12,
     "metadata": {},
     "output_type": "execute_result"
    }
   ],
   "source": [
    "# Create an array of five values evenly spaced between 0 and 1\n",
    "np.linspace(0,1,5)"
   ]
  },
  {
   "cell_type": "code",
   "execution_count": 14,
   "id": "abdd9d61",
   "metadata": {},
   "outputs": [
    {
     "data": {
      "text/plain": [
       "array([[0.58747888, 0.08924036, 0.4458482 ],\n",
       "       [0.31378979, 0.87122504, 0.24636666],\n",
       "       [0.41267047, 0.6802422 , 0.20355845]])"
      ]
     },
     "execution_count": 14,
     "metadata": {},
     "output_type": "execute_result"
    }
   ],
   "source": [
    "# Create a 3x3 array of uniformly distributed random values\n",
    "# between 0 and 1\n",
    "np.random.random((3,3))"
   ]
  },
  {
   "cell_type": "code",
   "execution_count": 15,
   "id": "dec016a4",
   "metadata": {},
   "outputs": [
    {
     "data": {
      "text/plain": [
       "array([[-3.02092042, -0.04033668,  0.57571483],\n",
       "       [ 0.19810335,  0.72876813,  0.88879324],\n",
       "       [ 1.50874337,  1.12953205, -0.63267716]])"
      ]
     },
     "execution_count": 15,
     "metadata": {},
     "output_type": "execute_result"
    }
   ],
   "source": [
    "# Create a 3x3 array of normally distributed random values\n",
    "# with mean 0 and standard deviation 1 \n",
    "np.random.normal(0, 1, (3, 3))"
   ]
  },
  {
   "cell_type": "code",
   "execution_count": 16,
   "id": "182cd9c6",
   "metadata": {},
   "outputs": [
    {
     "data": {
      "text/plain": [
       "array([[1, 0, 2],\n",
       "       [0, 0, 1],\n",
       "       [2, 0, 8]])"
      ]
     },
     "execution_count": 16,
     "metadata": {},
     "output_type": "execute_result"
    }
   ],
   "source": [
    "np.random.randint(0, 10, (3,3))"
   ]
  },
  {
   "cell_type": "code",
   "execution_count": 17,
   "id": "622b5df3",
   "metadata": {},
   "outputs": [
    {
     "data": {
      "text/plain": [
       "array([[1., 0., 0.],\n",
       "       [0., 1., 0.],\n",
       "       [0., 0., 1.]])"
      ]
     },
     "execution_count": 17,
     "metadata": {},
     "output_type": "execute_result"
    }
   ],
   "source": [
    "# create an identity matrix\n",
    "np.eye(3)"
   ]
  },
  {
   "cell_type": "code",
   "execution_count": 19,
   "id": "1364104f",
   "metadata": {},
   "outputs": [
    {
     "data": {
      "text/plain": [
       "array([4, 5, 3, 9, 2])"
      ]
     },
     "execution_count": 19,
     "metadata": {},
     "output_type": "execute_result"
    }
   ],
   "source": [
    "# Array indexing\n",
    "x1 = np.array([4,5,3,9,2])\n",
    "x1"
   ]
  },
  {
   "cell_type": "code",
   "execution_count": 22,
   "id": "2cac6991",
   "metadata": {},
   "outputs": [
    {
     "name": "stdout",
     "output_type": "stream",
     "text": [
      "4 2 2 3\n"
     ]
    }
   ],
   "source": [
    "print(x1[0], x1[4], x1[-1], x1[-3])"
   ]
  },
  {
   "cell_type": "code",
   "execution_count": 24,
   "id": "5a212339",
   "metadata": {},
   "outputs": [
    {
     "data": {
      "text/plain": [
       "array([[ 1,  2,  3,  4],\n",
       "       [ 5,  6,  7,  8],\n",
       "       [ 9, 10, 11, 12]])"
      ]
     },
     "execution_count": 24,
     "metadata": {},
     "output_type": "execute_result"
    }
   ],
   "source": [
    "# indexing in multidimensional array\n",
    "x2 = np.array([[1,2,3,4],[5,6,7,8],[9,10,11,12]])\n",
    "x2"
   ]
  },
  {
   "cell_type": "code",
   "execution_count": 26,
   "id": "d2300d46",
   "metadata": {},
   "outputs": [
    {
     "name": "stdout",
     "output_type": "stream",
     "text": [
      "1 9 12\n"
     ]
    }
   ],
   "source": [
    "print(x2[0,0], x2[2,0], x2[2, -1])"
   ]
  },
  {
   "cell_type": "code",
   "execution_count": 27,
   "id": "57f5d364",
   "metadata": {},
   "outputs": [
    {
     "data": {
      "text/plain": [
       "array([[13,  2,  3,  4],\n",
       "       [ 5,  6,  7,  8],\n",
       "       [ 9, 10, 11, 12]])"
      ]
     },
     "execution_count": 27,
     "metadata": {},
     "output_type": "execute_result"
    }
   ],
   "source": [
    "# modifying value\n",
    "x2[0,0]= 13\n",
    "x2"
   ]
  },
  {
   "cell_type": "code",
   "execution_count": 28,
   "id": "8f5647ce",
   "metadata": {},
   "outputs": [
    {
     "data": {
      "text/plain": [
       "array([[ 4,  2,  3,  4],\n",
       "       [ 5,  6,  7,  8],\n",
       "       [ 9, 10, 11, 12]])"
      ]
     },
     "execution_count": 28,
     "metadata": {},
     "output_type": "execute_result"
    }
   ],
   "source": [
    "x2[0,0]=4.9 # value will be truncated\n",
    "x2"
   ]
  },
  {
   "cell_type": "code",
   "execution_count": 29,
   "id": "b274a432",
   "metadata": {},
   "outputs": [
    {
     "data": {
      "text/plain": [
       "array([0, 1, 2, 3, 4, 5, 6, 7, 8, 9])"
      ]
     },
     "execution_count": 29,
     "metadata": {},
     "output_type": "execute_result"
    }
   ],
   "source": [
    "# array slicing: accessing subarray#\n",
    "# x[start:stop:step]\n",
    "x=np.arange(10)\n",
    "x"
   ]
  },
  {
   "cell_type": "code",
   "execution_count": 30,
   "id": "fd2a7609",
   "metadata": {},
   "outputs": [
    {
     "name": "stdout",
     "output_type": "stream",
     "text": [
      "[0 1 2 3 4] [5 6 7 8 9] [4 5 6]\n"
     ]
    }
   ],
   "source": [
    "print(x[:5], x[5:], x[4:7])"
   ]
  },
  {
   "cell_type": "code",
   "execution_count": 31,
   "id": "b70a3668",
   "metadata": {},
   "outputs": [
    {
     "name": "stdout",
     "output_type": "stream",
     "text": [
      "[0 2 4 6 8]\n"
     ]
    }
   ],
   "source": [
    "print(x[::2]) # every other element starting with index 0"
   ]
  },
  {
   "cell_type": "code",
   "execution_count": 32,
   "id": "0f95c72e",
   "metadata": {
    "scrolled": true
   },
   "outputs": [
    {
     "name": "stdout",
     "output_type": "stream",
     "text": [
      "[1 3 5 7 9]\n"
     ]
    }
   ],
   "source": [
    "print(x[1::2]) # every other element starting with index 1"
   ]
  },
  {
   "cell_type": "code",
   "execution_count": 33,
   "id": "90997159",
   "metadata": {},
   "outputs": [
    {
     "name": "stdout",
     "output_type": "stream",
     "text": [
      "[9 8 7 6 5 4 3 2 1 0]\n"
     ]
    }
   ],
   "source": [
    "print(x[::-1]) # all elements, reversed"
   ]
  },
  {
   "cell_type": "code",
   "execution_count": 35,
   "id": "04dea17c",
   "metadata": {},
   "outputs": [
    {
     "name": "stdout",
     "output_type": "stream",
     "text": [
      "[5 3 1]\n"
     ]
    }
   ],
   "source": [
    "print(x[5::-2])"
   ]
  },
  {
   "cell_type": "code",
   "execution_count": 40,
   "id": "451512c5",
   "metadata": {},
   "outputs": [
    {
     "data": {
      "text/plain": [
       "array([[ 1,  2,  3,  4],\n",
       "       [ 5,  6,  7,  8],\n",
       "       [ 9, 10, 11, 12]])"
      ]
     },
     "execution_count": 40,
     "metadata": {},
     "output_type": "execute_result"
    }
   ],
   "source": [
    "# multidimensional subarray\n",
    "x2[0,0]=1\n",
    "x2"
   ]
  },
  {
   "cell_type": "code",
   "execution_count": 43,
   "id": "204e002b",
   "metadata": {},
   "outputs": [
    {
     "data": {
      "text/plain": [
       "array([[1, 2, 3],\n",
       "       [5, 6, 7]])"
      ]
     },
     "execution_count": 43,
     "metadata": {},
     "output_type": "execute_result"
    }
   ],
   "source": [
    "x2[:2,:3] # two row , three columns"
   ]
  },
  {
   "cell_type": "code",
   "execution_count": 42,
   "id": "05c13fcc",
   "metadata": {},
   "outputs": [
    {
     "data": {
      "text/plain": [
       "array([[ 1,  3],\n",
       "       [ 5,  7],\n",
       "       [ 9, 11]])"
      ]
     },
     "execution_count": 42,
     "metadata": {},
     "output_type": "execute_result"
    }
   ],
   "source": [
    "x2[:3, ::2] # all rows, every other columns"
   ]
  },
  {
   "cell_type": "code",
   "execution_count": 41,
   "id": "a0c1c2da",
   "metadata": {
    "scrolled": true
   },
   "outputs": [
    {
     "data": {
      "text/plain": [
       "array([[12, 11, 10,  9],\n",
       "       [ 8,  7,  6,  5],\n",
       "       [ 4,  3,  2,  1]])"
      ]
     },
     "execution_count": 41,
     "metadata": {},
     "output_type": "execute_result"
    }
   ],
   "source": [
    "x2[::-1, ::-1]"
   ]
  },
  {
   "cell_type": "code",
   "execution_count": 44,
   "id": "e97cba80",
   "metadata": {},
   "outputs": [
    {
     "data": {
      "text/plain": [
       "array([1, 5, 9])"
      ]
     },
     "execution_count": 44,
     "metadata": {},
     "output_type": "execute_result"
    }
   ],
   "source": [
    "x2[:,0] # first column"
   ]
  },
  {
   "cell_type": "code",
   "execution_count": 45,
   "id": "f4c723bf",
   "metadata": {},
   "outputs": [
    {
     "data": {
      "text/plain": [
       "array([1, 2, 3, 4])"
      ]
     },
     "execution_count": 45,
     "metadata": {},
     "output_type": "execute_result"
    }
   ],
   "source": [
    "x2[0,:] # first row"
   ]
  },
  {
   "cell_type": "code",
   "execution_count": 50,
   "id": "58d21fad",
   "metadata": {},
   "outputs": [
    {
     "data": {
      "text/plain": [
       "array([[15,  2],\n",
       "       [ 5,  6]])"
      ]
     },
     "execution_count": 50,
     "metadata": {},
     "output_type": "execute_result"
    }
   ],
   "source": [
    "# create copy of array\n",
    "x2_sub_copy = x2[:2,:2].copy()\n",
    "x2_sub_copy"
   ]
  },
  {
   "cell_type": "code",
   "execution_count": 53,
   "id": "ead68121",
   "metadata": {},
   "outputs": [
    {
     "name": "stdout",
     "output_type": "stream",
     "text": [
      "[[15  2  3  4]\n",
      " [ 5  6  7  8]\n",
      " [ 9 10 11 12]]\n",
      "[[13  2]\n",
      " [ 5  6]]\n"
     ]
    }
   ],
   "source": [
    "x2_sub_copy[0,0]=13\n",
    "print(x2)\n",
    "print(x2_sub_copy)"
   ]
  },
  {
   "cell_type": "code",
   "execution_count": 55,
   "id": "0cfd707b",
   "metadata": {},
   "outputs": [
    {
     "name": "stdout",
     "output_type": "stream",
     "text": [
      "[[1 2 3]\n",
      " [4 5 6]\n",
      " [7 8 9]]\n"
     ]
    }
   ],
   "source": [
    "grid = np.arange(1,10).reshape((3,3))\n",
    "print(grid)"
   ]
  },
  {
   "cell_type": "code",
   "execution_count": 58,
   "id": "8111720a",
   "metadata": {},
   "outputs": [
    {
     "name": "stdout",
     "output_type": "stream",
     "text": [
      "[1 2 3]\n",
      "(3,)\n"
     ]
    }
   ],
   "source": [
    "x = np.array([1,2,3])\n",
    "print(x)\n",
    "print(x.shape)"
   ]
  },
  {
   "cell_type": "code",
   "execution_count": 60,
   "id": "2add6bc5",
   "metadata": {},
   "outputs": [
    {
     "name": "stdout",
     "output_type": "stream",
     "text": [
      "[[1 2 3]]\n",
      "(1, 3)\n"
     ]
    }
   ],
   "source": [
    "y=x.reshape((1,3))\n",
    "print(y)\n",
    "print(y.shape)"
   ]
  },
  {
   "cell_type": "code",
   "execution_count": 63,
   "id": "1fe6f830",
   "metadata": {},
   "outputs": [
    {
     "data": {
      "text/plain": [
       "array([0, 1, 2, 3, 2, 1])"
      ]
     },
     "execution_count": 63,
     "metadata": {},
     "output_type": "execute_result"
    }
   ],
   "source": [
    "# array concatenate\n",
    "x = np.array(range(3))\n",
    "y = np.array([3,2,1])\n",
    "np.concatenate([x,y], axis = 0)"
   ]
  },
  {
   "cell_type": "code",
   "execution_count": 67,
   "id": "528a3411",
   "metadata": {},
   "outputs": [
    {
     "data": {
      "text/plain": [
       "array([[1, 2, 3],\n",
       "       [4, 5, 6],\n",
       "       [1, 2, 3],\n",
       "       [4, 5, 6]])"
      ]
     },
     "execution_count": 67,
     "metadata": {},
     "output_type": "execute_result"
    }
   ],
   "source": [
    "grid = np.array([[1,2,3],[4,5,6]])\n",
    "np.concatenate([grid, grid], axis = 0) # adding rows"
   ]
  },
  {
   "cell_type": "code",
   "execution_count": 68,
   "id": "c5aa9cd0",
   "metadata": {},
   "outputs": [
    {
     "data": {
      "text/plain": [
       "array([[1, 2, 3, 1, 2, 3],\n",
       "       [4, 5, 6, 4, 5, 6]])"
      ]
     },
     "execution_count": 68,
     "metadata": {},
     "output_type": "execute_result"
    }
   ],
   "source": [
    "np.concatenate([grid, grid], axis=1) # adding columns"
   ]
  },
  {
   "cell_type": "code",
   "execution_count": 69,
   "id": "b6dd1189",
   "metadata": {},
   "outputs": [
    {
     "data": {
      "text/plain": [
       "array([[1, 2, 3],\n",
       "       [9, 8, 7],\n",
       "       [6, 5, 4]])"
      ]
     },
     "execution_count": 69,
     "metadata": {},
     "output_type": "execute_result"
    }
   ],
   "source": [
    "x = np.array([1,2,3])\n",
    "grid = np.array([[9,8,7],[6,5,4]])\n",
    "np.vstack([x, grid])"
   ]
  },
  {
   "cell_type": "code",
   "execution_count": 71,
   "id": "e55e890e",
   "metadata": {},
   "outputs": [
    {
     "data": {
      "text/plain": [
       "array([[ 9,  8,  7, 99],\n",
       "       [ 6,  5,  4, 99]])"
      ]
     },
     "execution_count": 71,
     "metadata": {},
     "output_type": "execute_result"
    }
   ],
   "source": [
    "y = np.array([[99],[99]])\n",
    "np.hstack([grid, y])"
   ]
  },
  {
   "cell_type": "markdown",
   "id": "7d8f58b0",
   "metadata": {},
   "source": [
    "###### np.dstack will stack array along the third axis"
   ]
  },
  {
   "cell_type": "code",
   "execution_count": 72,
   "id": "a513defa",
   "metadata": {},
   "outputs": [
    {
     "name": "stdout",
     "output_type": "stream",
     "text": [
      "[1 2 3] [99 99] [3 2 1]\n"
     ]
    }
   ],
   "source": [
    "# Splitting of arrays\n",
    "x = [1,2,3,99,99,3,2,1]\n",
    "x1, x2, x3 = np.split(x, [3,5])\n",
    "print(x1, x2, x3)"
   ]
  },
  {
   "cell_type": "code",
   "execution_count": 73,
   "id": "07d4e518",
   "metadata": {},
   "outputs": [
    {
     "data": {
      "text/plain": [
       "array([[ 0,  1,  2,  3],\n",
       "       [ 4,  5,  6,  7],\n",
       "       [ 8,  9, 10, 11],\n",
       "       [12, 13, 14, 15]])"
      ]
     },
     "execution_count": 73,
     "metadata": {},
     "output_type": "execute_result"
    }
   ],
   "source": [
    "grid = np.arange(16).reshape((4, 4))\n",
    "grid"
   ]
  },
  {
   "cell_type": "code",
   "execution_count": 78,
   "id": "6aded2d8",
   "metadata": {},
   "outputs": [
    {
     "name": "stdout",
     "output_type": "stream",
     "text": [
      "[[0 1 2 3]\n",
      " [4 5 6 7]]\n",
      "[[ 8  9 10 11]\n",
      " [12 13 14 15]]\n"
     ]
    }
   ],
   "source": [
    "upper, lower = np.vsplit(grid, [2])\n",
    "print(upper)\n",
    "print(lower)"
   ]
  },
  {
   "cell_type": "code",
   "execution_count": 79,
   "id": "3bd3d056",
   "metadata": {},
   "outputs": [
    {
     "name": "stdout",
     "output_type": "stream",
     "text": [
      "[[0 1 2 3]\n",
      " [4 5 6 7]]\n",
      "[[ 8  9 10 11]\n",
      " [12 13 14 15]]\n"
     ]
    }
   ],
   "source": [
    "upper1, lower1 = np.vsplit(grid, 2)\n",
    "print(upper1)\n",
    "print(lower1)"
   ]
  },
  {
   "cell_type": "code",
   "execution_count": 80,
   "id": "b3e83e19",
   "metadata": {},
   "outputs": [
    {
     "name": "stdout",
     "output_type": "stream",
     "text": [
      "[[ 0  1]\n",
      " [ 4  5]\n",
      " [ 8  9]\n",
      " [12 13]]\n",
      "[[ 2  3]\n",
      " [ 6  7]\n",
      " [10 11]\n",
      " [14 15]]\n"
     ]
    }
   ],
   "source": [
    "left, right = np.hsplit(grid, 2)\n",
    "print(left)\n",
    "print(right)"
   ]
  },
  {
   "cell_type": "code",
   "execution_count": 87,
   "id": "a0649bb9",
   "metadata": {},
   "outputs": [
    {
     "data": {
      "text/plain": [
       "[1, 2, 3, 99, 99, 3, 2, 1, 1, 2, 3, 99, 99, 3, 2, 1]"
      ]
     },
     "execution_count": 87,
     "metadata": {},
     "output_type": "execute_result"
    }
   ],
   "source": [
    "x * 2"
   ]
  },
  {
   "cell_type": "code",
   "execution_count": 88,
   "id": "92e8d564",
   "metadata": {},
   "outputs": [
    {
     "data": {
      "text/plain": [
       "array([  3,   4,   5, 101, 101,   5,   4,   3])"
      ]
     },
     "execution_count": 88,
     "metadata": {},
     "output_type": "execute_result"
    }
   ],
   "source": [
    "np.add(x, 2)"
   ]
  },
  {
   "cell_type": "code",
   "execution_count": 89,
   "id": "a55085a3",
   "metadata": {},
   "outputs": [
    {
     "data": {
      "text/plain": [
       "array([  2,   4,   6, 198, 198,   6,   4,   2])"
      ]
     },
     "execution_count": 89,
     "metadata": {},
     "output_type": "execute_result"
    }
   ],
   "source": [
    "np.multiply(x, 2)"
   ]
  },
  {
   "cell_type": "markdown",
   "id": "ac60381e",
   "metadata": {},
   "source": [
    "<b>A universal function, or ufunc,</b> is a function that performs elementwise operations on data in ndarrays.\n",
    "\n",
    "ufunc (universal functions) exists in 2 flavors:\n",
    "1. unary ufunc - which operate on single input\n",
    "2. binary ufunc - which operate on two inputs\n",
    "For many types of operations, NumPy provides a convenient interface into just this kind of statically typed, compiled routine. This is known as a vectorized operation.\n",
    "\n",
    "arithmetic operator - add, subtract, negative, multiply, divide, floor_divide, power, mod\n",
    "\n",
    "trigonometric functions - sin, cos, tan\n",
    "arcsin, arccos, arctan (inverse of sin, cos, tan)\n",
    "\n",
    "Exponent/ logrithms - \n",
    "exp ( x ) = e^x \n",
    "exp2 ( x ) = 2^x\n",
    "power (n, x) =  n^x\n",
    "expm1 (x) = exp(x) - 1\n",
    "ln(x) \n",
    "log2(x) \n",
    "log10(x) \n",
    "log1p(x) = log(1+x)"
   ]
  },
  {
   "cell_type": "code",
   "execution_count": 91,
   "id": "64f2a4e7",
   "metadata": {},
   "outputs": [
    {
     "name": "stdout",
     "output_type": "stream",
     "text": [
      "[0 1 2 3 4] [1 2 3 4 5]\n",
      "[0.         0.5        0.66666667 0.75       0.8       ]\n"
     ]
    }
   ],
   "source": [
    "# arithmetic operatorprint(np.arange(5), np.arange(1,6))\n",
    "print(np.arange(5) / np.arange(1,6))"
   ]
  },
  {
   "cell_type": "code",
   "execution_count": 96,
   "id": "8fcd01c2",
   "metadata": {},
   "outputs": [
    {
     "name": "stdout",
     "output_type": "stream",
     "text": [
      "[1 2 3 4 5]\n",
      "15\n",
      "120\n",
      "[ 1  3  6 10 15]\n",
      "[  1   2   6  24 120]\n"
     ]
    }
   ],
   "source": [
    "# Aggregates\n",
    "x = np.arange(1, 6)\n",
    "print(x)\n",
    "print(np.add.reduce(x))\n",
    "print(np.multiply.reduce(x))\n",
    "print(np.add.accumulate(x)) # store intermediate results\n",
    "print(np.multiply.accumulate(x)) # store intermediate results"
   ]
  },
  {
   "cell_type": "code",
   "execution_count": 97,
   "id": "96c37aa5",
   "metadata": {},
   "outputs": [
    {
     "name": "stdout",
     "output_type": "stream",
     "text": [
      "15\n",
      "120\n"
     ]
    }
   ],
   "source": [
    "# Aggregation funcs available in numpy\n",
    "# sum, prod, mean, std (standard deviation), var (variance), min, max\n",
    "# argmin, argmax, median, percentile, any, all\n",
    "# any - evaluates whether any elements are true\n",
    "# all - evaluates whether all elements are true\n",
    "print(np.sum(x))\n",
    "print(np.prod(x))"
   ]
  },
  {
   "cell_type": "code",
   "execution_count": 106,
   "id": "baa37849",
   "metadata": {
    "scrolled": false
   },
   "outputs": [
    {
     "name": "stdout",
     "output_type": "stream",
     "text": [
      "[5 2 7]\n",
      "[5 6 7]\n",
      "[[1. 1. 1.]\n",
      " [1. 1. 1.]\n",
      " [1. 1. 1.]]\n",
      "[[1. 2. 3.]\n",
      " [1. 2. 3.]\n",
      " [1. 2. 3.]]\n",
      "[[2. 3. 4.]\n",
      " [2. 3. 4.]\n",
      " [2. 3. 4.]]\n",
      "[[1. 1. 1.]\n",
      " [2. 2. 2.]\n",
      " [3. 3. 3.]]\n"
     ]
    }
   ],
   "source": [
    "# Broadcasting\n",
    "# broadcasting is simply a set of rules for applying binary ufuncs (addition, multiplication,\n",
    "# subtraction ) etc ON arrays of different sizes.\n",
    "a=np.array([0,1,2])\n",
    "b=np.array([5,1,5])\n",
    "print(\"a+b=\", a+b)\n",
    "# adding scalar to array. here broadcasting is used \n",
    "print(\"a+5\", a+5)\n",
    "m = np.ones((3,3))\n",
    "# adding 1d array to 2D array\n",
    "print(\"m = \", m)\n",
    "print(\"m+a = \", m+a) # 1d array is streched or broadcast across 2nd dimension in order to match the shape of M\n",
    "c=np.array([[1,2,3]])\n",
    "print(\"m+c = \" = m+c)\n",
    "d = np.arange(3)[:, np.newaxis]\n",
    "print(\"d = \", d)\n",
    "print(\"m+d=\", m+d)"
   ]
  },
  {
   "cell_type": "code",
   "execution_count": 104,
   "id": "edc71590",
   "metadata": {
    "scrolled": false
   },
   "outputs": [
    {
     "name": "stdout",
     "output_type": "stream",
     "text": [
      "[0 1 2]\n",
      "[[0]\n",
      " [1]\n",
      " [2]]\n",
      "[[0 1 2]\n",
      " [1 2 3]\n",
      " [2 3 4]]\n"
     ]
    }
   ],
   "source": [
    "a = np.arange(3)\n",
    "b = np.arange(3)[:, np.newaxis]\n",
    "print(\"a=\",a)\n",
    "print(\"b=\",b)\n",
    "print(\"a+b=\",a+b) # broadcasting of both array"
   ]
  },
  {
   "cell_type": "markdown",
   "id": "e3f58626",
   "metadata": {},
   "source": [
    "Rules of Broadcasting\n",
    "Broadcasting in NumPy follows a strict set of rules to determine the interaction between the two arrays:\n",
    "• Rule 1: If the two arrays differ in their number of dimensions, the shape of the one with fewer dimensions is padded with ones on its leading (left) side.\n",
    "• Rule 2: If the shape of the two arrays does not match in any dimension, the array with shape equal to 1 in that dimension is stretched to match the other shape.\n",
    "• Rule 3: If in any dimension the sizes disagree and neither is equal to 1, an error is raised."
   ]
  },
  {
   "cell_type": "code",
   "execution_count": 110,
   "id": "e644509d",
   "metadata": {},
   "outputs": [
    {
     "name": "stdout",
     "output_type": "stream",
     "text": [
      "X:  [[0.98337034 0.44491922 0.50810748]\n",
      " [0.99200168 0.55763628 0.01996609]\n",
      " [0.49501325 0.14730746 0.45233768]\n",
      " [0.59096189 0.32321219 0.31749036]\n",
      " [0.27232804 0.50369524 0.64633312]\n",
      " [0.70002263 0.87868489 0.18634073]\n",
      " [0.10149765 0.0842026  0.84149149]\n",
      " [0.05859089 0.67437    0.52383454]\n",
      " [0.95167002 0.36845526 0.66703333]\n",
      " [0.95341894 0.64390238 0.08217717]]\n",
      "Xmean:  [0.60988753 0.46263855 0.4245112 ]\n",
      "X_centered:  [[ 0.37348281 -0.01771933  0.08359628]\n",
      " [ 0.38211414  0.09499773 -0.40454511]\n",
      " [-0.11487428 -0.3153311   0.02782648]\n",
      " [-0.01892564 -0.13942636 -0.10702084]\n",
      " [-0.33755949  0.04105669  0.22182192]\n",
      " [ 0.0901351   0.41604634 -0.23817047]\n",
      " [-0.50838989 -0.37843595  0.41698029]\n",
      " [-0.55129664  0.21173144  0.09932334]\n",
      " [ 0.34178249 -0.09418329  0.24252213]\n",
      " [ 0.3435314   0.18126383 -0.34233403]]\n",
      "X_centered_mean:  [ 1.11022302e-17  0.00000000e+00 -2.22044605e-17]\n"
     ]
    }
   ],
   "source": [
    "# Application of braodcasting\n",
    "# 1. Centering an array of data\n",
    "X = np.random.random((10,3))\n",
    "print(\"X: \", X)\n",
    "# mean of each feature using mean aggregate across first dimension\n",
    "Xmean = X.mean(0)\n",
    "print(\"Xmean: \", Xmean)\n",
    "# we can center X array by substracting the mean\n",
    "X_centered = X - Xmean\n",
    "print(\"X_centered: \",X_centered)\n",
    "# to check its correct, we can check the centered array has near zero mean\n",
    "print(\"X_centered_mean: \",X_centered.mean(0))"
   ]
  },
  {
   "cell_type": "code",
   "execution_count": 113,
   "id": "06784fe3",
   "metadata": {
    "scrolled": true
   },
   "outputs": [
    {
     "data": {
      "text/plain": [
       "<matplotlib.colorbar.Colorbar at 0x7f2b29e91ac0>"
      ]
     },
     "execution_count": 113,
     "metadata": {},
     "output_type": "execute_result"
    },
    {
     "data": {
      "image/png": "[encoded data removed]",
      "text/plain": [
       "<Figure size 432x288 with 2 Axes>"
      ]
     },
     "metadata": {
      "needs_background": "light"
     },
     "output_type": "display_data"
    }
   ],
   "source": [
    "# Application of braodcasting\n",
    "# 2. plotting a 2D function\n",
    "x = np.linspace(0, 5, 50) # 50 points between 0 and 5 in rows \n",
    "y = np.linspace(0, 5, 50)[:, np.newaxis] # 50 points between 0 and 5 in cols\n",
    "\n",
    "z = np.sin(x) ** 10 + np.cos(10+y * x) * np.cos(x)\n",
    "%matplotlib inline\n",
    "import matplotlib.pyplot as plt\n",
    "# cmap is parameter to choose colormap\n",
    "plt.imshow(z, origin='lower', extent=[0,5,0,5], cmap='viridis') \n",
    "plt.colorbar()"
   ]
  },
  {
   "cell_type": "markdown",
   "id": "4338f8be",
   "metadata": {},
   "source": [
    "#### comparisons, masks, boolean logic\n",
    "Masking comes up when you want to extract, modify, count, or\n",
    "otherwise manipulate values in an array based on some criterion: for example, you might wish to count all values greater than a certain value, or perhaps remove all out‐liers that are above some threshold."
   ]
  },
  {
   "cell_type": "code",
   "execution_count": 116,
   "id": "352fee01",
   "metadata": {},
   "outputs": [
    {
     "name": "stdout",
     "output_type": "stream",
     "text": [
      "[False False False False  True  True] int64\n"
     ]
    }
   ],
   "source": [
    "x = np.arange(6)\n",
    "y"
   ]
  },
  {
   "cell_type": "code",
   "execution_count": 117,
   "id": "2bd6f620",
   "metadata": {},
   "outputs": [
    {
     "data": {
      "text/plain": [
       "array([False, False, False, False,  True,  True])"
      ]
     },
     "execution_count": 117,
     "metadata": {},
     "output_type": "execute_result"
    }
   ],
   "source": [
    "# comparison operator in numpy :  >, < , >=, <=, != , ==\n",
    "x = np.arange(6)\n",
    "y = x > 3 \n",
    "y"
   ]
  },
  {
   "cell_type": "code",
   "execution_count": 118,
   "id": "026ee3f8",
   "metadata": {
    "scrolled": true
   },
   "outputs": [
    {
     "data": {
      "text/plain": [
       "array([ True, False,  True, False, False, False])"
      ]
     },
     "execution_count": 118,
     "metadata": {},
     "output_type": "execute_result"
    }
   ],
   "source": [
    "# it is also possible to do element by element comparison of 2 arrays.\n",
    "(2 * x) == (x ** 2)"
   ]
  },
  {
   "cell_type": "markdown",
   "id": "e2174d94",
   "metadata": {},
   "source": [
    "Equivalent ufunc for comparison operator\n",
    "equal, not_equal, less, less_equal, greater, greater_equal"
   ]
  },
  {
   "cell_type": "code",
   "execution_count": 120,
   "id": "95612d16",
   "metadata": {},
   "outputs": [
    {
     "name": "stdout",
     "output_type": "stream",
     "text": [
      "[[5 0 3 3]\n",
      " [7 9 3 5]\n",
      " [2 4 7 6]]\n",
      "[[False False False False]\n",
      " [ True  True False False]\n",
      " [False False  True  True]]\n"
     ]
    }
   ],
   "source": [
    "# these comparison operator works on multidimensional array too.\n",
    "rng = np.random.RandomState(0)\n",
    "x = rng.randint(10, size=(3,4))\n",
    "print(x)\n",
    "print(x>5)"
   ]
  },
  {
   "cell_type": "code",
   "execution_count": 128,
   "id": "1c850be7",
   "metadata": {},
   "outputs": [
    {
     "name": "stdout",
     "output_type": "stream",
     "text": [
      "4\n",
      "4\n",
      "[4 2 2]\n",
      "[0 2 2]\n",
      "True\n",
      "False\n",
      "False\n",
      "False\n",
      "True\n",
      "[False False False]\n"
     ]
    }
   ],
   "source": [
    "# operations on boolean array\n",
    "# count total nos > 5\n",
    "print(np.count_nonzero(x>5))\n",
    "print(np.sum(x>5)) \n",
    "# both count_nonzero and sum can be used.\n",
    "# count how many are < 6 in each row\n",
    "print(np.count_nonzero(x<6, axis=1))\n",
    "print(np.sum(x>5, axis=1)) \n",
    "#If we’re interested in quickly checking whether any or all \n",
    "# the values are true, we can use (you guessed it) np.any()\n",
    "# or np.all() :\n",
    "print(np.any(x > 8))\n",
    "print(np.any(x < 0))\n",
    "print(np.all(x<0))\n",
    "print(np.all(x==6))\n",
    "print(np.all(x<10))\n",
    "# np.all() and np.any() can be used along particular axes as well.\n",
    "print(np.all(x<5, axis=1))"
   ]
  },
  {
   "cell_type": "markdown",
   "id": "b7df2252",
   "metadata": {},
   "source": [
    "Bitwise logical operator:\n",
    "Equivalent ufunc -\n",
    "bitwise_and (&) , bitwise_or(|), bitwise_xor(^), bitwise_not(~)"
   ]
  },
  {
   "cell_type": "code",
   "execution_count": 129,
   "id": "b267a1af",
   "metadata": {},
   "outputs": [
    {
     "data": {
      "text/plain": [
       "array([0, 3, 3, 3, 2, 4])"
      ]
     },
     "execution_count": 129,
     "metadata": {},
     "output_type": "execute_result"
    }
   ],
   "source": [
    "# Boolean Arrays as Masks\n",
    "# suppose we want an array of all the values in the array that \n",
    "# are less than 5\n",
    "y = x < 5 # obtain boolean array for the condition\n",
    "x[y] # now to select the values from array , simply index on this\n",
    "# boolean array. this is known as masking operation."
   ]
  },
  {
   "cell_type": "code",
   "execution_count": 135,
   "id": "f79bf5d1",
   "metadata": {},
   "outputs": [
    {
     "name": "stdout",
     "output_type": "stream",
     "text": [
      "[51 92 14 71 60 20 82 86 74 74]\n",
      "[71, 86, 14]\n",
      "[71 86 20]\n",
      "[[71 82]\n",
      " [20 14]]\n",
      "[ 2  5 11]\n"
     ]
    }
   ],
   "source": [
    "# Exploring fancy indexing \n",
    "# (it means passing array of indices to access multiple array elements at once.)\n",
    "rand = np.random.RandomState(42)\n",
    "m = rand.randint(100, size=10)\n",
    "print(m)\n",
    "# suppose we want to access three different elements,\n",
    "# we can do like below\n",
    "print([m[3],m[7],m[2]])\n",
    "# alternatively we can pass a single list or array of indices to \n",
    "# obtain the same\n",
    "ind = [3,7,5]\n",
    "print(m[ind])\n",
    "ind1 = np.array([[3,6],[5,2]])\n",
    "print(m[ind1])\n",
    "# fancy indexing works in multidimensional array too,\n",
    "X = np.arange(12).reshape(3,4)\n",
    "row = np.array([0,1,2])\n",
    "col = np.array([2,1,3])\n",
    "print(X[row, col])"
   ]
  },
  {
   "cell_type": "code",
   "execution_count": 136,
   "id": "667faa8e",
   "metadata": {},
   "outputs": [
    {
     "data": {
      "text/plain": [
       "array([10,  8,  9])"
      ]
     },
     "execution_count": 136,
     "metadata": {},
     "output_type": "execute_result"
    }
   ],
   "source": [
    "# we can combine fancy indexing with simple indices\n",
    "X[2,[2,0,1]]"
   ]
  },
  {
   "cell_type": "code",
   "execution_count": 137,
   "id": "566dd9d8",
   "metadata": {},
   "outputs": [
    {
     "data": {
      "text/plain": [
       "array([[ 6,  4,  5],\n",
       "       [10,  8,  9]])"
      ]
     },
     "execution_count": 137,
     "metadata": {},
     "output_type": "execute_result"
    }
   ],
   "source": [
    "X[1:, [2,0,1]]"
   ]
  },
  {
   "cell_type": "code",
   "execution_count": 141,
   "id": "4c987c27",
   "metadata": {},
   "outputs": [
    {
     "data": {
      "text/plain": [
       "array([[ 0,  2],\n",
       "       [ 4,  6],\n",
       "       [ 8, 10]])"
      ]
     },
     "execution_count": 141,
     "metadata": {},
     "output_type": "execute_result"
    }
   ],
   "source": [
    "mask = np.array([1, 0, 1, 0], dtype=bool)\n",
    "X[row[:,np.newaxis], mask]\n",
    "# numpy.newaxis is used to increase the dimension of the existing array by one more dimension, when used once. Thus,\n",
    "# 1D array will become 2D array\n",
    "# 2D array will become 3D array and so on"
   ]
  },
  {
   "cell_type": "code",
   "execution_count": 146,
   "id": "72429fa4",
   "metadata": {},
   "outputs": [
    {
     "name": "stdout",
     "output_type": "stream",
     "text": [
      "[0. 0. 0. 0. 0. 0. 0. 0. 0. 0.]\n",
      "[6. 0. 0. 0. 0. 0. 0. 0. 0. 0.]\n",
      "[6. 0. 1. 1. 1. 1. 1. 0. 0. 0.]\n",
      "[6. 0. 3. 3. 3. 3. 2. 0. 0. 0.]\n"
     ]
    }
   ],
   "source": [
    "# modifying values with fancy indexing\n",
    "x = np.zeros(10)\n",
    "print(x)\n",
    "x[[0,0]] = [4,6] # this will result 6\n",
    "print(x)\n",
    "i = [2,4,5,2,3,6,5,3,4]\n",
    "x[i] +=1 # this will not increment value at position 2 by 2 and so on\n",
    "print(x)\n",
    "np.add.at(x,i, 1) # this will do the required behaviour\n",
    "print(x)"
   ]
  },
  {
   "cell_type": "code",
   "execution_count": 147,
   "id": "4acf1788",
   "metadata": {
    "scrolled": true
   },
   "outputs": [
    {
     "name": "stdout",
     "output_type": "stream",
     "text": [
      "[-5.         -4.47368421 -3.94736842 -3.42105263 -2.89473684 -2.36842105\n",
      " -1.84210526 -1.31578947 -0.78947368 -0.26315789  0.26315789  0.78947368\n",
      "  1.31578947  1.84210526  2.36842105  2.89473684  3.42105263  3.94736842\n",
      "  4.47368421  5.        ]\n",
      "[0. 0. 0. 0. 0. 0. 0. 0. 0. 0. 0. 0. 0. 0. 0. 0. 0. 0. 0. 0.]\n",
      "[11 10 11 13 10 10 13 11  9 11  9  9 10  6  7  9  8 11  8  7 13 10 10  7\n",
      "  9 10  8 11  9  9  9 14 10  8 12  8 10  6  7 10 11 10 10  9  7  9  9 12\n",
      " 11  7 11  9  9 11 12 12  8  9 11 12  9 10  8  8 12 13 10 12 11  9 11 13\n",
      " 10 13  5 12 10  9 10  6 10 11 13  9  8  9 12 11  9 11 10 12  9  9  9  7\n",
      " 11 10 10 10]\n"
     ]
    }
   ],
   "source": [
    "np.random.seed(42)\n",
    "x = np.random.randn(100)\n",
    "# compute a histogram by hand\n",
    "bins = np.linspace(-5, 5, 20)\n",
    "print(\"bins:\",bins)\n",
    "counts = np.zeros_like(bins)\n",
    "print(\"counts:\",counts)\n",
    "# find the appropriate bin for each x\n",
    "i = np.searchsorted(bins, x)\n",
    "print(\"searchsorted, i:\",i)\n",
    "# add 1 to each of these bins\n",
    "np.add.at(counts, i, 1)\n",
    "# searchsorted - Find indices where elements should be inserted \n",
    "# to maintain order. Find the indices into a sorted array a such \n",
    "# that, if the corresponding elements in v were inserted before\n",
    "# the indices, the order of a would be preserved."
   ]
  },
  {
   "cell_type": "markdown",
   "id": "1e956bda",
   "metadata": {},
   "source": [
    "#### Sorting Arrays\n",
    "Fast sorting in numpy, \n",
    "np.sort, np.argsort  \n",
    "by default np.sort uses quick sort algorithm, though mergesort and heapsort are also available.\n",
    "sort func sort the array. while argsort return the indices of the sorted elements."
   ]
  },
  {
   "cell_type": "code",
   "execution_count": 153,
   "id": "56996551",
   "metadata": {},
   "outputs": [
    {
     "name": "stdout",
     "output_type": "stream",
     "text": [
      "[1 2 3 4 5]\n",
      "[2 1 4 3 5]\n",
      "[1 2 3 4 5]\n",
      "[1 0 3 2 4]\n",
      "[1 2 3 4 5]\n"
     ]
    }
   ],
   "source": [
    "x = np.array([2, 1, 4, 3, 5])\n",
    "print(np.sort(x))\n",
    "print(x) # original array still not sorted \n",
    "# to sort original array simply call sort \n",
    "x.sort()\n",
    "print(x)\n",
    "\n",
    "x = np.array([2, 1, 4, 3, 5])\n",
    "i = np.argsort(x) # return indices of sorted elements\n",
    "print(i)\n",
    "print(x[i]) #this will print sorted elements\n",
    "\n",
    "# you can performing sorting along row, columns by passing axis \n",
    "# parameter to sort functions."
   ]
  },
  {
   "cell_type": "code",
   "execution_count": 159,
   "id": "6dda800a",
   "metadata": {},
   "outputs": [
    {
     "name": "stdout",
     "output_type": "stream",
     "text": [
      "[7 2 3 5 6 4 8 1]\n",
      "[1 2 3 4 5 6 8 7]\n",
      "[2 1 3 4]\n"
     ]
    }
   ],
   "source": [
    "# Partial Sorts: Partitioning\n",
    "\n",
    "x= np.array([7,2,3,5,6,4,8])\n",
    "print(x)\n",
    "print(np.partition(x,3))\n",
    "\n",
    "a = np.array([3, 4, 2, 1])\n",
    "print(np.partition(a, 3))"
   ]
  },
  {
   "cell_type": "markdown",
   "id": "f462dcb5",
   "metadata": {},
   "source": [
    "#### Structured array and Record Arrays\n",
    "structured arrays and record arrays, which provide efficient storage for compound, heterogeneous data."
   ]
  },
  {
   "cell_type": "code",
   "execution_count": 161,
   "id": "17eb2ffb",
   "metadata": {},
   "outputs": [
    {
     "name": "stdout",
     "output_type": "stream",
     "text": [
      "[('name', '<U10'), ('age', '<i4'), ('weight', '<f8')]\n"
     ]
    }
   ],
   "source": [
    "# Use a compound data type for structured arrays\n",
    "data = np.zeros(4, dtype={'names':('name', 'age', 'weight'),\n",
    "'formats':('U10', 'i4', 'f8')})\n",
    "print(data.dtype)"
   ]
  },
  {
   "cell_type": "markdown",
   "id": "e9b10f9c",
   "metadata": {},
   "source": [
    "* 'U10' translates to “Unicode string of maximum length 10,”\n",
    "* 'i4' translates to “4-byte (i.e., 32 bit) integer,”\n",
    "* 'f8' translates to “8-byte (i.e., 64 bit) float.”"
   ]
  },
  {
   "cell_type": "code",
   "execution_count": 164,
   "id": "15476325",
   "metadata": {},
   "outputs": [
    {
     "name": "stdout",
     "output_type": "stream",
     "text": [
      "[('Alice', 25, 55. ) ('Bob', 45, 85.5) ('Cathy', 37, 68. )\n",
      " ('Doug', 19, 61.5)]\n",
      "['Alice' 'Bob' 'Cathy' 'Doug']\n",
      "('Alice', 25, 55.)\n",
      "['Alice' 'Doug']\n"
     ]
    }
   ],
   "source": [
    "name = ['Alice', 'Bob', 'Cathy', 'Doug']\n",
    "age = [25, 45, 37, 19]\n",
    "weight = [55.0, 85.5, 68.0, 61.5]\n",
    "data['name'] = name\n",
    "data['age'] = age\n",
    "data['weight'] = weight\n",
    "print(data)\n",
    "# Get all names\n",
    "print(data['name'])\n",
    "# Get first row of data\n",
    "print(data[0])\n",
    "# Get names where age is under 30\n",
    "print(data[data['age'] < 30]['name'])"
   ]
  },
  {
   "cell_type": "code",
   "execution_count": 165,
   "id": "1ae3ecc3",
   "metadata": {},
   "outputs": [
    {
     "name": "stdout",
     "output_type": "stream",
     "text": [
      "[('name', '<U10'), ('age', '<i4'), ('weight', '<f8')]\n",
      "[('name', '<U10'), ('age', '<i8'), ('weight', '<f4')]\n"
     ]
    }
   ],
   "source": [
    "# Creating Structured Arrays using dictionary method\n",
    "a = np.dtype({'names':('name', 'age', 'weight'),\n",
    "'formats':('U10', 'i4', 'f8')})\n",
    "print(a)\n",
    "b = np.dtype({'names':('name', 'age', 'weight'),\n",
    "'formats':((np.str_, 10), int, np.float32)})\n",
    "print(b)"
   ]
  },
  {
   "cell_type": "code",
   "execution_count": 166,
   "id": "92e68db7",
   "metadata": {},
   "outputs": [
    {
     "name": "stdout",
     "output_type": "stream",
     "text": [
      "[('name', 'S10'), ('age', '<i4'), ('weight', '<f8')]\n"
     ]
    }
   ],
   "source": [
    "# Creating Structured Arrays using list of tuple\n",
    "x = np.dtype([('name', 'S10'), ('age', 'i4'), ('weight', 'f8')])\n",
    "print(x)"
   ]
  },
  {
   "cell_type": "code",
   "execution_count": 167,
   "id": "87469d14",
   "metadata": {},
   "outputs": [
    {
     "data": {
      "text/plain": [
       "dtype([('f0', 'S10'), ('f1', '<i4'), ('f2', '<f8')])"
      ]
     },
     "execution_count": 167,
     "metadata": {},
     "output_type": "execute_result"
    }
   ],
   "source": [
    "# If the names of the types do not matter to you, you can specify\n",
    "# the types alone in a comma-separated string:\n",
    "np.dtype('S10,i4,f8')"
   ]
  },
  {
   "cell_type": "code",
   "execution_count": 170,
   "id": "fdd327dc",
   "metadata": {},
   "outputs": [
    {
     "name": "stdout",
     "output_type": "stream",
     "text": [
      "[('id', '<i8'), ('mat', '<f8', (3, 3))]\n"
     ]
    }
   ],
   "source": [
    "tp = np.dtype([('id', 'i8'), ('mat', 'f8', (3, 3))])\n",
    "print(tp) # mat - matrix here size will be 3x3"
   ]
  },
  {
   "cell_type": "markdown",
   "id": "ec50d987",
   "metadata": {},
   "source": [
    "#### RecordArrays: Structured Arrays with a Twist\n",
    "NumPy also provides the np.recarray class, which is almost identical to the structured arrays just described, but with one additional feature: fields can be accessed as attributes rather than as dictionary keys."
   ]
  },
  {
   "cell_type": "code",
   "execution_count": 172,
   "id": "17aed588",
   "metadata": {},
   "outputs": [
    {
     "data": {
      "text/plain": [
       "array([25, 45, 37, 19], dtype=int32)"
      ]
     },
     "execution_count": 172,
     "metadata": {},
     "output_type": "execute_result"
    }
   ],
   "source": [
    "data_rec = data.view(np.recarray)\n",
    "data_rec.age # accessing as attributes rather than dict keys"
   ]
  },
  {
   "cell_type": "markdown",
   "id": "091ce7da",
   "metadata": {},
   "source": [
    "#### Linear Algebra \n",
    "Linear algebra, like matrix multiplication, decompositions, determinants, and other square matrix math, is an important part of any array library."
   ]
  },
  {
   "cell_type": "code",
   "execution_count": 178,
   "id": "659c97eb",
   "metadata": {},
   "outputs": [],
   "source": [
    "x = np.array([[1., 2., 3.], [4., 5., 6.]])\n",
    "y = np.array([[6., 23.], [-1, 7], [8, 9]])"
   ]
  },
  {
   "cell_type": "code",
   "execution_count": 179,
   "id": "7e8e406d",
   "metadata": {},
   "outputs": [
    {
     "name": "stdout",
     "output_type": "stream",
     "text": [
      "[[ 28.  64.]\n",
      " [ 67. 181.]]\n",
      "[[ 28.  64.]\n",
      " [ 67. 181.]]\n"
     ]
    }
   ],
   "source": [
    "print(x.dot(y))\n",
    "print(np.dot(x,y))\n",
    "# both of the above are same"
   ]
  },
  {
   "cell_type": "markdown",
   "id": "b69fe534",
   "metadata": {},
   "source": [
    "numpy.linalg has a standard set of matrix decompositions and things like inverse and determinant."
   ]
  },
  {
   "cell_type": "code",
   "execution_count": 182,
   "id": "3fb9f433",
   "metadata": {},
   "outputs": [
    {
     "data": {
      "text/plain": [
       "array([[0.15743842, 0.14613152, 0.05849436, 0.09540258, 0.02744853],\n",
       "       [0.14613152, 0.45564383, 0.22562006, 0.73601243, 0.11461675],\n",
       "       [0.05849436, 0.22562006, 0.54313372, 1.38265471, 0.39016095],\n",
       "       [0.09540258, 0.73601243, 1.38265471, 5.34434657, 1.73397823],\n",
       "       [0.02744853, 0.11461675, 0.39016095, 1.73397823, 1.00144072]])"
      ]
     },
     "execution_count": 182,
     "metadata": {},
     "output_type": "execute_result"
    }
   ],
   "source": [
    "from numpy.linalg import inv, qr\n",
    "from numpy.random import randn\n",
    "X = randn(5, 5)\n",
    "mat = X.T.dot(X)\n",
    "inv(mat)"
   ]
  },
  {
   "cell_type": "code",
   "execution_count": 183,
   "id": "4f70014c",
   "metadata": {},
   "outputs": [
    {
     "data": {
      "text/plain": [
       "array([[ 1.00000000e+00, -2.63209736e-16, -1.26083639e-16,\n",
       "        -5.71249291e-17, -6.61970432e-17],\n",
       "       [ 4.16460587e-18,  1.00000000e+00, -6.61398869e-17,\n",
       "         1.48398251e-16,  1.48347553e-16],\n",
       "       [ 2.86411060e-17, -1.66784912e-16,  1.00000000e+00,\n",
       "        -5.81401224e-16, -1.80904207e-16],\n",
       "       [ 1.90451135e-17, -9.01426035e-17, -1.08252108e-16,\n",
       "         1.00000000e+00, -1.98376638e-16],\n",
       "       [-2.86064753e-17, -1.82393319e-17, -2.01635486e-16,\n",
       "        -3.80784165e-16,  1.00000000e+00]])"
      ]
     },
     "execution_count": 183,
     "metadata": {},
     "output_type": "execute_result"
    }
   ],
   "source": [
    "mat.dot(inv(mat))"
   ]
  },
  {
   "cell_type": "code",
   "execution_count": 185,
   "id": "b80d82d7",
   "metadata": {
    "scrolled": true
   },
   "outputs": [
    {
     "name": "stdout",
     "output_type": "stream",
     "text": [
      "[[-0.9073655  -0.37577945 -0.18729173 -0.01479957  0.01343246]\n",
      " [ 0.36759574 -0.86935388 -0.00688095 -0.32542862  0.05608987]\n",
      " [ 0.1317005   0.16188938 -0.93090115 -0.23111594  0.19093265]\n",
      " [-0.10558843  0.15834604  0.28646705 -0.40208025  0.84855508]\n",
      " [ 0.11431218 -0.2274467  -0.12741324  0.82388961  0.49007398]]\n",
      "[[-11.3162056    5.86257883   2.51475305  -2.00315872   2.24202076]\n",
      " [  0.          -3.08615298   0.79598169   0.70380607  -1.40264644]\n",
      " [  0.           0.          -5.82280804   1.97454739  -1.2775625 ]\n",
      " [  0.           0.           0.          -0.78080195   2.17465012]\n",
      " [  0.           0.           0.           0.           0.48936893]]\n"
     ]
    }
   ],
   "source": [
    "q, r = qr(mat)\n",
    "print(q)\n",
    "print(r)"
   ]
  },
  {
   "cell_type": "code",
   "execution_count": null,
   "id": "d5d801d4",
   "metadata": {},
   "outputs": [],
   "source": []
  }
 ],
 "metadata": {
  "kernelspec": {
   "display_name": "Python 3 (ipykernel)",
   "language": "python",
   "name": "python3"
  },
  "language_info": {
   "codemirror_mode": {
    "name": "ipython",
    "version": 3
   },
   "file_extension": ".py",
   "mimetype": "text/x-python",
   "name": "python",
   "nbconvert_exporter": "python",
   "pygments_lexer": "ipython3",
   "version": "3.9.12"
  }
 },
 "nbformat": 4,
 "nbformat_minor": 5
}
